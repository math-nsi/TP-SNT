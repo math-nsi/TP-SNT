{
 "cells": [
  {
   "cell_type": "markdown",
   "metadata": {},
   "source": [
    "<h1 style=\"color:teal;\">TP04 avec la structure for</h1>\n",
    "<h2>Afficher des puissances avec une boucle for</h2>"
   ]
  },
  {
   "cell_type": "markdown",
   "metadata": {},
   "source": [
    "<h3 style=\"color:indigo;\">Exemple</h3>"
   ]
  },
  {
   "cell_type": "markdown",
   "metadata": {},
   "source": [
    "On veut afficher et stocker dans une liste les 12 premières puissances de 2, à l'aide d'une boucle \n",
    "<b style=\"color:green;\">for</b> et d'une liste.  \n",
    "La ligne : liste=[ ] définit une liste vide et la méthode append() permet de rajouter un élément à la liste.  \n",
    "La fonction <span style=\"color:blue;\">puisance1</span>() définie ci-dessous, affiche toutes ces puissances.  \n",
    "Cliquer dans la cellule ci-dessous, puis cliquer dans la barre d'outils sur l'onglet **Exécuter** (**Run** en Anglais).  \n",
    "Le programme doit afficher tous les puissances de 2 de \"<b style=\"color:red;\">1</b>\" à\n",
    "\"<b style=\"color:red;\">2048</b>\" compris."
   ]
  },
  {
   "cell_type": "code",
   "execution_count": null,
   "metadata": {
    "scrolled": true
   },
   "outputs": [],
   "source": [
    "def puissance1():\n",
    "    liste=[]\n",
    "    for i in range(0,12):\n",
    "        liste.append(2**i)\n",
    "    return liste\n",
    "#-------------------------------\n",
    "print(puissance1())"
   ]
  },
  {
   "cell_type": "markdown",
   "metadata": {},
   "source": [
    "<h3 style=\"color:darkblue;\">Exercice</h3>"
   ]
  },
  {
   "cell_type": "markdown",
   "metadata": {},
   "source": [
    "On veut afficher et stocker les 10 premières puissances de 3, à l'aide d'une boucle \n",
    "<b style=\"color:green;\">for</b> et d'une liste.  \n",
    "Modifier la fonction <span style=\"color:blue;\">puissance2</span>() définie ci-dessous (avant les tirets), afin qu'elle affiche ces puissances.  \n",
    "Cliquer dans la cellule ci-dessous, puis cliquer dans la barre d'outils sur l'onglet **Exécuter** (**Run** en Anglais).  \n",
    "Le programme doit afficher tous les puissances de 3 de \"<b style=\"color:red;\">1</b>\" à\n",
    "\"<b style=\"color:red;\">19683</b>\" compris."
   ]
  },
  {
   "cell_type": "code",
   "execution_count": null,
   "metadata": {},
   "outputs": [],
   "source": [
    "def puissance2():\n",
    "    liste=[]\n",
    "    for i in range(0,12):\n",
    "        liste.append(2**i)\n",
    "    return liste\n",
    "#-------------------------------\n",
    "print(puissance2())"
   ]
  },
  {
   "cell_type": "markdown",
   "metadata": {},
   "source": [
    "<h3 style=\"color:indigo;\">Vérification</h3>"
   ]
  },
  {
   "cell_type": "markdown",
   "metadata": {},
   "source": [
    "Pour vérifier que votre fonction s'exécute correctement, cliquer dans la cellule ci-dessous, puis dans la barre d'outils cliquer sur l'onglet **Exécuter** (**Run** en Anglais), le programme doit afficher \"<b style=\"color:green;\">Correct !</b>\" en sortie.  \n",
    "Si le programme affiche \"<b style=\"color:darkred;\">Incorrect !</b>\" c'est qu'il faut changer le code de la fonction ci-dessus et l'**Exécuter** à nouveau."
   ]
  },
  {
   "cell_type": "code",
   "execution_count": null,
   "metadata": {},
   "outputs": [],
   "source": [
    "from m.m2 import c4\n",
    "c4(puissance2)"
   ]
  },
  {
   "cell_type": "markdown",
   "metadata": {},
   "source": [
    "<h3 style=\"color:darkblue;\">TP suivant</h3>"
   ]
  },
  {
   "cell_type": "markdown",
   "metadata": {},
   "source": [
    "Pour passer au TP suivant fermer l'onglet **TP04-for-Jupyter Notebook** en cliquant sur la croix,\n",
    "puis en cliquant sur **Quitter** si nécessaire.  \n",
    "Dans l'onglet précédent **2-TP-for** cliquer sur le fichier **TP05-for.ipynb** ."
   ]
  },
  {
   "cell_type": "markdown",
   "metadata": {},
   "source": [
    "<center style=\"font-size:12px;color:teal;\">TP Python de SNT en ligne du Lycée Anna de Noailles à Evian</center>"
   ]
  }
 ],
 "metadata": {
  "celltoolbar": "Aucun(e)",
  "kernelspec": {
   "display_name": "Python 3",
   "language": "python",
   "name": "python3"
  },
  "language_info": {
   "codemirror_mode": {
    "name": "ipython",
    "version": 3
   },
   "file_extension": ".py",
   "mimetype": "text/x-python",
   "name": "python",
   "nbconvert_exporter": "python",
   "pygments_lexer": "ipython3",
   "version": "3.7.3"
  }
 },
 "nbformat": 4,
 "nbformat_minor": 2
}
