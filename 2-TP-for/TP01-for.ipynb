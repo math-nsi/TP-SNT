{
 "cells": [
  {
   "cell_type": "markdown",
   "metadata": {},
   "source": [
    "<h1 style=\"color:teal;\">TP01 avec la structure for</h1>\n",
    "<h2>Fonction avec une boucle for</h2>"
   ]
  },
  {
   "cell_type": "markdown",
   "metadata": {},
   "source": [
    "Dans l'exemple ci-dessous on utilise une boucle <b style=\"color:green;\">for</b> à l'aide des mots clés\n",
    "<b style=\"color:green;\">for</b> et <b style=\"color:green;\">in</b>.  \n",
    "On utilise aussi la fonction <span style=\"color:green;\">range</span>() qui permet de définir une plage de nombre qui va du premier nombre compris au dernier nombre **non compris**.  \n",
    "Ainsi <span style=\"color:green;\">range</span>(<span style=\"color:green;\">2020</span>,\n",
    "<span style=\"color:green;\">2031</span>) génère la liste :\n",
    "(2020,2021,2022,2023,2024,2025,2026,2027,2028,2029,2030).  \n",
    "Comme pour la structure if, il faut faire attention de ne pas oublier les \"<b>:</b>\" et **l'indentation**."
   ]
  },
  {
   "cell_type": "markdown",
   "metadata": {},
   "source": [
    "<h3 style=\"color:indigo;\">Exemple</h3>"
   ]
  },
  {
   "cell_type": "markdown",
   "metadata": {},
   "source": [
    "On estime que le prix d'une matière première augmente de 2 % chaque année.  \n",
    "Sachant qu'en 2019, le prix de cette matière première est de 500 euros la tonne, on souhaite estimer le prix à la tonne de cette matière première en une année future, notée **annee**.  \n",
    "La fonction <span style=\"color:blue;\">prix1</span>() définie ci-dessous, calcule le prix à la tonne de cette matière première en une année future, en supposant que l'augmentation du prix à la tonne se maintient à 2 % par an.  \n",
    "Cliquer dans la cellule ci-dessous, puis cliquer dans la barre d'outils sur l'onglet **Exécuter** (**Run** en Anglais).  \n",
    "Le programme doit afficher \"<b style=\"color:red;\">563.08</b>\" puis \n",
    "\"<b style=\"color:red;\">621.69</b> en sortie."
   ]
  },
  {
   "cell_type": "code",
   "execution_count": null,
   "metadata": {
    "scrolled": true
   },
   "outputs": [],
   "source": [
    "def prix1(annee):\n",
    "    prix=500\n",
    "    for a in range(2020,annee+1):\n",
    "        prix=1.02*prix\n",
    "    return round(prix,2)\n",
    "#-------------------------------\n",
    "print(prix1(2025))\n",
    "print(prix1(2030))"
   ]
  },
  {
   "cell_type": "markdown",
   "metadata": {},
   "source": [
    "<h3 style=\"color:darkblue;\">Exercice</h3>"
   ]
  },
  {
   "cell_type": "markdown",
   "metadata": {},
   "source": [
    "On estime que le prix d'une matière première augmente de 1,6 % chaque année.  \n",
    "Sachant qu'en 2019, le prix de cette matière première est de 400 euros la tonne, on souhaite estimer le prix à la tonne de cette matière première en une année future, notée **annee**.  \n",
    "Modifier la fonction <span style=\"color:blue;\">prix2</span>() définie ci-dessous, afin qu'elle calcule le prix à la tonne de cette matière première en une année future, en supposant que l'augmentation du prix à la tonne se maintient à 1,6 % par an.  \n",
    "Cliquer dans la cellule ci-dessous, puis cliquer dans la barre d'outils sur l'onglet **Exécuter** (**Run** en Anglais).  \n",
    "Le programme doit afficher \"<b style=\"color:red;\">439.97</b>\" puis \n",
    "\"<b style=\"color:red;\">476.31</b>\" en sortie."
   ]
  },
  {
   "cell_type": "code",
   "execution_count": null,
   "metadata": {},
   "outputs": [],
   "source": [
    "def prix2(annee):\n",
    "    prix=500\n",
    "    for a in range(2020,annee+1):\n",
    "        prix=1.02*prix\n",
    "    return round(prix,2)\n",
    "#-------------------------------\n",
    "print(prix2(2025))\n",
    "print(prix2(2030))"
   ]
  },
  {
   "cell_type": "markdown",
   "metadata": {},
   "source": [
    "<h3 style=\"color:indigo;\">Vérification</h3>"
   ]
  },
  {
   "cell_type": "markdown",
   "metadata": {},
   "source": [
    "Pour vérifier que votre fonction s'exécute correctement, cliquer dans la cellule ci-dessous, puis dans la barre d'outils cliquer sur l'onglet **Exécuter** (**Run** en Anglais), le programme doit afficher \"<b style=\"color:green;\">Correct !</b>\" en sortie.  \n",
    "Si le programme affiche \"<b style=\"color:darkred;\">Incorrect !</b>\" c'est qu'il faut changer le code de la fonction ci-dessus et l'**Exécuter** à nouveau."
   ]
  },
  {
   "cell_type": "code",
   "execution_count": null,
   "metadata": {},
   "outputs": [],
   "source": [
    "from m.m2 import c1\n",
    "c1(prix2)"
   ]
  },
  {
   "cell_type": "markdown",
   "metadata": {},
   "source": [
    "<h3 style=\"color:darkblue;\">TP suivant</h3>"
   ]
  },
  {
   "cell_type": "markdown",
   "metadata": {},
   "source": [
    "Pour passer au TP suivant fermer l'onglet **TP01-for-Jupyter Notebook** en cliquant sur la croix,\n",
    "puis en cliquant sur **Quitter** si nécessaire.  \n",
    "Dans l'onglet précédent **2-TP-for** cliquer sur le fichier **TP02-for.ipynb** ."
   ]
  },
  {
   "cell_type": "markdown",
   "metadata": {},
   "source": [
    "<center style=\"font-size:12px;color:teal;\">TP Python de SNT en ligne du Lycée Anna de Noailles à Evian</center>"
   ]
  }
 ],
 "metadata": {
  "celltoolbar": "Aucun(e)",
  "kernelspec": {
   "display_name": "Python 3",
   "language": "python",
   "name": "python3"
  },
  "language_info": {
   "codemirror_mode": {
    "name": "ipython",
    "version": 3
   },
   "file_extension": ".py",
   "mimetype": "text/x-python",
   "name": "python",
   "nbconvert_exporter": "python",
   "pygments_lexer": "ipython3",
   "version": "3.7.3"
  }
 },
 "nbformat": 4,
 "nbformat_minor": 2
}
