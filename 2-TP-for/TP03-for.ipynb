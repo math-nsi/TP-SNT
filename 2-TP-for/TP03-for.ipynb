{
 "cells": [
  {
   "cell_type": "markdown",
   "metadata": {},
   "source": [
    "<h1 style=\"color:teal;\">TP03 avec la structure for</h1>\n",
    "<h2>Afficher des multiples avec une boucle for</h2>"
   ]
  },
  {
   "cell_type": "markdown",
   "metadata": {},
   "source": [
    "<h3 style=\"color:indigo;\">Exemple</h3>"
   ]
  },
  {
   "cell_type": "markdown",
   "metadata": {},
   "source": [
    "On veut afficher et stocker dans une liste les <b>n</b> premiers multiples de 7, à l'aide d'une boucle \n",
    "<b style=\"color:green;\">for</b> et d'une liste.  \n",
    "La ligne : liste=[ ] définit une liste vide et la méthode append() permet de rajouter un élément à la liste.  \n",
    "La fonction <span style=\"color:blue;\">multiple1</span>() définie ci-dessous, affiche tous ces \n",
    "<b>n</b> premiers multiples.  \n",
    "Cliquer dans la cellule ci-dessous, puis cliquer dans la barre d'outils sur l'onglet **Exécuter** (**Run** en Anglais).  \n",
    "Le programme doit afficher tous les multiples de 7 de \"<b style=\"color:red;\">0</b>\" à\n",
    "\"<b style=\"color:red;\">133</b>\" compris."
   ]
  },
  {
   "cell_type": "code",
   "execution_count": null,
   "metadata": {
    "scrolled": true
   },
   "outputs": [],
   "source": [
    "def multiple1(n):\n",
    "    liste=[]\n",
    "    for i in range(0,n):\n",
    "        liste.append(7*i)\n",
    "    return liste\n",
    "#-------------------------------\n",
    "print(multiple1(20))"
   ]
  },
  {
   "cell_type": "markdown",
   "metadata": {},
   "source": [
    "<h3 style=\"color:darkblue;\">Exercice</h3>"
   ]
  },
  {
   "cell_type": "markdown",
   "metadata": {},
   "source": [
    "On veut afficher les <b>n</b> premiers multiples de 13, à l'aide d'une boucle \n",
    "<b style=\"color:green;\">for</b> et d'une liste.  \n",
    "Modifier la fonction <span style=\"color:blue;\">multiple2</span>() définie ci-dessous (avant les tirets), afin qu'elle affiche ces multiples.  \n",
    "Cliquer dans la cellule ci-dessous, puis cliquer dans la barre d'outils sur l'onglet **Exécuter** (**Run** en Anglais).  \n",
    "Le programme doit afficher tous les multiples de 13 de \"<b style=\"color:red;\">0</b>\" à\n",
    "\"<b style=\"color:red;\">247</b>\" compris."
   ]
  },
  {
   "cell_type": "code",
   "execution_count": null,
   "metadata": {},
   "outputs": [],
   "source": [
    "def multiple2(n):\n",
    "    liste=[]\n",
    "    for i in range(0,n):\n",
    "        liste.append(7*i)\n",
    "    return liste\n",
    "#-------------------------------\n",
    "print(multiple2(20))"
   ]
  },
  {
   "cell_type": "markdown",
   "metadata": {},
   "source": [
    "<h3 style=\"color:indigo;\">Vérification</h3>"
   ]
  },
  {
   "cell_type": "markdown",
   "metadata": {},
   "source": [
    "Pour vérifier que votre fonction s'exécute correctement, cliquer dans la cellule ci-dessous, puis dans la barre d'outils cliquer sur l'onglet **Exécuter** (**Run** en Anglais), le programme doit afficher \"<b style=\"color:green;\">Correct !</b>\" en sortie.  \n",
    "Si le programme affiche \"<b style=\"color:darkred;\">Incorrect !</b>\" c'est qu'il faut changer le code de la fonction ci-dessus et l'**Exécuter** à nouveau."
   ]
  },
  {
   "cell_type": "code",
   "execution_count": null,
   "metadata": {},
   "outputs": [],
   "source": [
    "from m.m2 import c3\n",
    "c3(multiple2)"
   ]
  },
  {
   "cell_type": "markdown",
   "metadata": {},
   "source": [
    "<h3 style=\"color:darkblue;\">TP suivant</h3>"
   ]
  },
  {
   "cell_type": "markdown",
   "metadata": {},
   "source": [
    "Pour passer au TP suivant fermer l'onglet **TP03-for-Jupyter Notebook** en cliquant sur la croix,\n",
    "puis en cliquant sur **Quitter** si nécessaire.  \n",
    "Dans l'onglet précédent **2-TP-for** cliquer sur le fichier **TP04-for.ipynb** ."
   ]
  },
  {
   "cell_type": "markdown",
   "metadata": {},
   "source": [
    "<center style=\"font-size:12px;color:teal;\">TP Python de SNT en ligne du Lycée Anna de Noailles à Evian</center>"
   ]
  }
 ],
 "metadata": {
  "celltoolbar": "Aucun(e)",
  "kernelspec": {
   "display_name": "Python 3",
   "language": "python",
   "name": "python3"
  },
  "language_info": {
   "codemirror_mode": {
    "name": "ipython",
    "version": 3
   },
   "file_extension": ".py",
   "mimetype": "text/x-python",
   "name": "python",
   "nbconvert_exporter": "python",
   "pygments_lexer": "ipython3",
   "version": "3.7.3"
  }
 },
 "nbformat": 4,
 "nbformat_minor": 2
}
