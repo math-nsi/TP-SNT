{
 "cells": [
  {
   "cell_type": "markdown",
   "metadata": {},
   "source": [
    "<h1 style=\"color:teal;\">TP03 avec la structure while</h1>\n",
    "<h2>Fonction avec une boucle while</h2>"
   ]
  },
  {
   "cell_type": "markdown",
   "metadata": {},
   "source": [
    "<h3 style=\"color:indigo;\">Exemple</h3>"
   ]
  },
  {
   "cell_type": "markdown",
   "metadata": {},
   "source": [
    "À la mort d'un organisme, la quantité de radiocarbone ou carbone 14 initialement présent se met à décroître exponentiellement selon le processus de la décroissance radioactive, ce qui permet de savoir depuis combien de temps l'organisme est mort.\n",
    "On estime que la quantité de radio carbone présente dans les restes d'un organisme mort diminue de 1,2 % par siècle.  \n",
    "La fonction <span style=\"color:blue;\">datation1</span>() définie ci-dessous, détermine l'année de la mort de l'organisme vivant, en fonction de la proportion <b>p</b> de carbone 14 présente dans les restes de l'organisme, sachant que 100 % correspond à la quantité de carbone 14 quand l'organisme était vivant.  \n",
    "Cliquer dans la cellule ci-dessous, puis cliquer dans la barre d'outils sur l'onglet **Exécuter** (**Run** en Anglais).  \n",
    "Le programme doit afficher en sortie \"<b style=\"color:red;\">1100</b>\" pour une proportion de 90 % , puis \"<b style=\"color:red;\">-3800</b>\" pour une proportion de 50 %."
   ]
  },
  {
   "cell_type": "code",
   "execution_count": null,
   "metadata": {},
   "outputs": [],
   "source": [
    "def datation1(p):\n",
    "    an=2000\n",
    "    s=100\n",
    "    while s>p:\n",
    "        s=0.988*s\n",
    "        an=an-100\n",
    "    return an\n",
    "#-------------------------------\n",
    "print(datation1(90))\n",
    "print(datation1(50))"
   ]
  },
  {
   "cell_type": "markdown",
   "metadata": {},
   "source": [
    "<h3 style=\"color:darkblue;\">Exercice</h3>"
   ]
  },
  {
   "cell_type": "markdown",
   "metadata": {},
   "source": [
    "Pour dater les coraux, on utilise le même principe avec un autre élément radio-actif : l'uranium 234.  \n",
    "On estime que la quantité d'uranium 234 présente dans le corail mort diminue de 0,28 % par millénaire.\n",
    "Modifier la fonction <span style=\"color:blue;\">datation2</span>() ci-dessous, pour qu'elle détermine l'année de la mort de ce corail à mille ans près, en fonction du pourcentage <b>p</b> d'uranium 234 présent dans le corail mort.  \n",
    "Cliquer dans la cellule ci-dessous, puis cliquer dans la barre d'outils sur l'onglet **Exécuter** (**Run** en Anglais).  \n",
    "Le programme doit afficher \"<b style=\"color:red;\">-36000</b>\" puis \"<b style=\"color:red;\">-246000</b>\" en sortie."
   ]
  },
  {
   "cell_type": "code",
   "execution_count": null,
   "metadata": {},
   "outputs": [],
   "source": [
    "def datation2(p):\n",
    "    an=2000\n",
    "    s=100\n",
    "    while s>p:\n",
    "        s=0.988*s\n",
    "        an=an-100\n",
    "    return an\n",
    "#-------------------------------\n",
    "print(datation2(90))\n",
    "print(datation2(50))"
   ]
  },
  {
   "cell_type": "markdown",
   "metadata": {},
   "source": [
    "<h3 style=\"color:indigo;\">Vérification</h3>"
   ]
  },
  {
   "cell_type": "markdown",
   "metadata": {},
   "source": [
    "Pour vérifier que votre fonction s'exécute correctement, cliquer dans la cellule ci-dessous, puis dans la barre d'outils cliquer sur l'onglet **Exécuter** (**Run** en Anglais), le programme doit afficher \"<b style=\"color:green;\">Correct !</b>\" en sortie.  \n",
    "Si le programme affiche \"<b style=\"color:darkred;\">Incorrect !</b>\" c'est qu'il faut changer le code de la fonction ci-dessus et l'**Exécuter** à nouveau."
   ]
  },
  {
   "cell_type": "code",
   "execution_count": null,
   "metadata": {},
   "outputs": [],
   "source": [
    "from m.m3 import c3\n",
    "c3(datation2)"
   ]
  },
  {
   "cell_type": "markdown",
   "metadata": {},
   "source": [
    "<h3 style=\"color:darkblue;\">TP suivant</h3>"
   ]
  },
  {
   "cell_type": "markdown",
   "metadata": {},
   "source": [
    "Pour passer au TP suivant fermer l'onglet **TP03-while-Jupyter Notebook** en cliquant sur la croix,\n",
    "puis en cliquant sur **Quitter** si nécessaire.  \n",
    "Dans l'onglet précédent **3-TP-while** cliquer sur le fichier **TP04-while.ipynb** ."
   ]
  },
  {
   "cell_type": "markdown",
   "metadata": {},
   "source": [
    "<center style=\"font-size:12px;color:teal;\">TP Python de SNT en ligne du Lycée Anna de Noailles à Evian</center>"
   ]
  }
 ],
 "metadata": {
  "celltoolbar": "Aucun(e)",
  "kernelspec": {
   "display_name": "Python 3",
   "language": "python",
   "name": "python3"
  },
  "language_info": {
   "codemirror_mode": {
    "name": "ipython",
    "version": 3
   },
   "file_extension": ".py",
   "mimetype": "text/x-python",
   "name": "python",
   "nbconvert_exporter": "python",
   "pygments_lexer": "ipython3",
   "version": "3.7.3"
  }
 },
 "nbformat": 4,
 "nbformat_minor": 2
}
