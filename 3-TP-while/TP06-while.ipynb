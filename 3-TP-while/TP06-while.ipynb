{
 "cells": [
  {
   "cell_type": "markdown",
   "metadata": {},
   "source": [
    "<h1 style=\"color:teal;\">TP06 avec la structure while</h1>\n",
    "<h2>Fonction avec une boucle while</h2>"
   ]
  },
  {
   "cell_type": "markdown",
   "metadata": {},
   "source": [
    "<h3 style=\"color:indigo;\">Exemple</h3>"
   ]
  },
  {
   "cell_type": "markdown",
   "metadata": {},
   "source": [
    "La fonction <span style=\"color:blue;\">periode1</span>() définie ci-dessous, calcule la période de l'élément radio-actif : césium 137.  \n",
    "La période aussi appelé demi-vie est la durée nécessaire pour que la moitié des éléments radio-actifs se désintègre en éléments non radio-actifs.  \n",
    "Pour faire ce calcul, on utilise l'estimation suivante : 2,29 % du césium 137 se désintègre par an.  \n",
    "Cliquer dans la cellule ci-dessous, puis cliquer dans la barre d'outils sur l'onglet **Exécuter** (**Run** en Anglais).  \n",
    "Le programme doit afficher \"<b style=\"color:red;\">30</b>\" en sortie."
   ]
  },
  {
   "cell_type": "code",
   "execution_count": null,
   "metadata": {},
   "outputs": [],
   "source": [
    "def periode1():\n",
    "    quantite=1\n",
    "    duree=0\n",
    "    while quantite>0.5:\n",
    "        quantite=0.9771*quantite\n",
    "        duree=duree+1\n",
    "    return duree\n",
    "#-------------------------------\n",
    "print(periode1())"
   ]
  },
  {
   "cell_type": "markdown",
   "metadata": {},
   "source": [
    "<h3 style=\"color:darkblue;\">Exercice</h3>"
   ]
  },
  {
   "cell_type": "markdown",
   "metadata": {},
   "source": [
    "Rédiger la fonction <span style=\"color:blue;\">periode2</span>() ci-dessous, pour qu'elle calcule la demi-vie ou période du carbone 14 radio-actif.  \n",
    "Pour faire ce calcul, on utilise l'estimation suivante : 0,012 % du carbone 14 se désintègre par an.  \n",
    "Cliquer dans la cellule ci-dessous, puis cliquer dans la barre d'outils sur l'onglet **Exécuter** (**Run** en Anglais).  \n",
    "Le programme doit afficher \"<b style=\"color:red;\">5776</b>\" en sortie."
   ]
  },
  {
   "cell_type": "code",
   "execution_count": null,
   "metadata": {},
   "outputs": [],
   "source": [
    "def periode2():\n",
    "    \n",
    "#-------------------------------\n",
    "print(periode2())"
   ]
  },
  {
   "cell_type": "markdown",
   "metadata": {},
   "source": [
    "<h3 style=\"color:indigo;\">Vérification</h3>"
   ]
  },
  {
   "cell_type": "markdown",
   "metadata": {},
   "source": [
    "Pour vérifier que votre fonction s'exécute correctement, cliquer dans la cellule ci-dessous, puis dans la barre d'outils cliquer sur l'onglet **Exécuter** (**Run** en Anglais), le programme doit afficher \"<b style=\"color:green;\">Correct !</b>\" en sortie.  \n",
    "Si le programme affiche \"<b style=\"color:darkred;\">Incorrect !</b>\" c'est qu'il faut changer le code de la fonction ci-dessus et l'**Exécuter** à nouveau."
   ]
  },
  {
   "cell_type": "code",
   "execution_count": null,
   "metadata": {},
   "outputs": [],
   "source": [
    "from m.m3 import c6\n",
    "c6(periode2)"
   ]
  },
  {
   "cell_type": "markdown",
   "metadata": {},
   "source": [
    "<h3 style=\"color:darkblue;\">TP suivant</h3>"
   ]
  },
  {
   "cell_type": "markdown",
   "metadata": {},
   "source": [
    "Pour passer au TP suivant fermer l'onglet **TP06-while-Jupyter Notebook** en cliquant sur la croix,\n",
    "puis en cliquant sur **Quitter** si nécessaire.  \n",
    "Dans l'onglet précédent **3-TP-while** cliquer sur le fichier **TP07-while.ipynb** ."
   ]
  },
  {
   "cell_type": "markdown",
   "metadata": {},
   "source": [
    "<center style=\"font-size:12px;color:teal;\">TP Python de SNT en ligne du Lycée Anna de Noailles à Evian</center>"
   ]
  }
 ],
 "metadata": {
  "celltoolbar": "Aucun(e)",
  "kernelspec": {
   "display_name": "Python 3",
   "language": "python",
   "name": "python3"
  },
  "language_info": {
   "codemirror_mode": {
    "name": "ipython",
    "version": 3
   },
   "file_extension": ".py",
   "mimetype": "text/x-python",
   "name": "python",
   "nbconvert_exporter": "python",
   "pygments_lexer": "ipython3",
   "version": "3.7.3"
  }
 },
 "nbformat": 4,
 "nbformat_minor": 2
}
