{
 "cells": [
  {
   "cell_type": "markdown",
   "metadata": {},
   "source": [
    "<h1 style=\"color:teal;\">TP02 avec la structure while</h1>\n",
    "<h2>Fonction avec une boucle while</h2>"
   ]
  },
  {
   "cell_type": "markdown",
   "metadata": {},
   "source": [
    "Dans l'exemple ci-dessous on utilise une boucle <b style=\"color:green;\">while</b> à l'aide du mot clé\n",
    "<b style=\"color:green;\">while</b>.  \n",
    "Comme pour la structure if, il faut faire attention de ne pas oublier les \"<b>:</b>\" et **l'indentation**."
   ]
  },
  {
   "cell_type": "markdown",
   "metadata": {},
   "source": [
    "<h3 style=\"color:indigo;\">Exemple</h3>"
   ]
  },
  {
   "cell_type": "markdown",
   "metadata": {},
   "source": [
    "Au milieu d'un jardin de 10 m<sup>2</sup>, on plante au printemps 2020, un pied d'une espèce de vivaces rempantes qui occupe une surface de 100 cm<sup>2</sup>.  \n",
    "On sait que cette plante s'étant de 50 % par ans. \n",
    "La fonction <span style=\"color:blue;\">annee1</span>() définie ci-dessous, détermine l'année pour laquelle cette plante vivace aura complètement envahi ce jardin.  \n",
    "Cliquer dans la cellule ci-dessous, puis cliquer dans la barre d'outils sur l'onglet **Exécuter** (**Run** en Anglais).  \n",
    "Le programme doit afficher \"<b style=\"color:red;\">2038</b>\" en sortie."
   ]
  },
  {
   "cell_type": "code",
   "execution_count": null,
   "metadata": {},
   "outputs": [],
   "source": [
    "def annee1(debut):\n",
    "    an=debut\n",
    "    s=100\n",
    "    while s<10*10000:\n",
    "        s=1.5*s\n",
    "        an=an+1\n",
    "    return an\n",
    "#-------------------------------\n",
    "print(annee1(2020))"
   ]
  },
  {
   "cell_type": "markdown",
   "metadata": {},
   "source": [
    "<h3 style=\"color:darkblue;\">Exercice</h3>"
   ]
  },
  {
   "cell_type": "markdown",
   "metadata": {},
   "source": [
    "Dans un petit marais, une espèce de nénuphars envahissants est apparue en 2018. En 2020, cette espèce de nénuphars a déjà envahi 15 % du marais. On sait que la surface envahie par cette espèce de nénuphars augmente de 35% par an.\n",
    "Modifier la fonction <span style=\"color:blue;\">annee2</span>() ci-dessous, pour qu'elle détermine l'année pour laquelle cette espèce de nénuphars aura envahi 90 % du marais pour la première fois.  \n",
    "Cliquer dans la cellule ci-dessous, puis cliquer dans la barre d'outils sur l'onglet **Exécuter** (**Run** en Anglais).  \n",
    "Le programme doit afficher \"<b style=\"color:red;\">2026</b>\" en sortie."
   ]
  },
  {
   "cell_type": "code",
   "execution_count": null,
   "metadata": {},
   "outputs": [],
   "source": [
    "def annee2(debut):\n",
    "    an=debut\n",
    "    s=100\n",
    "    while s<10*10000:\n",
    "        s=1.5*s\n",
    "        an=an+1\n",
    "    return an\n",
    "#-------------------------------\n",
    "print(annee2(2020))"
   ]
  },
  {
   "cell_type": "markdown",
   "metadata": {},
   "source": [
    "<h3 style=\"color:indigo;\">Vérification</h3>"
   ]
  },
  {
   "cell_type": "markdown",
   "metadata": {},
   "source": [
    "Pour vérifier que votre fonction s'exécute correctement, cliquer dans la cellule ci-dessous, puis dans la barre d'outils cliquer sur l'onglet **Exécuter** (**Run** en Anglais), le programme doit afficher \"<b style=\"color:green;\">Correct !</b>\" en sortie.  \n",
    "Si le programme affiche \"<b style=\"color:darkred;\">Incorrect !</b>\" c'est qu'il faut changer le code de la fonction ci-dessus et l'**Exécuter** à nouveau."
   ]
  },
  {
   "cell_type": "code",
   "execution_count": null,
   "metadata": {},
   "outputs": [],
   "source": [
    "from m.m3 import c2\n",
    "c2(annee2)"
   ]
  },
  {
   "cell_type": "markdown",
   "metadata": {},
   "source": [
    "<h3 style=\"color:darkblue;\">TP suivant</h3>"
   ]
  },
  {
   "cell_type": "markdown",
   "metadata": {},
   "source": [
    "Pour passer au TP suivant fermer l'onglet **TP02-while-Jupyter Notebook** en cliquant sur la croix,\n",
    "puis en cliquant sur **Quitter** si nécessaire.  \n",
    "Dans l'onglet précédent **3-TP-while** cliquer sur le fichier **TP03-while.ipynb** ."
   ]
  },
  {
   "cell_type": "markdown",
   "metadata": {},
   "source": [
    "<center style=\"font-size:12px;color:teal;\">TP Python de SNT en ligne du Lycée Anna de Noailles à Evian</center>"
   ]
  }
 ],
 "metadata": {
  "celltoolbar": "Aucun(e)",
  "kernelspec": {
   "display_name": "Python 3",
   "language": "python",
   "name": "python3"
  },
  "language_info": {
   "codemirror_mode": {
    "name": "ipython",
    "version": 3
   },
   "file_extension": ".py",
   "mimetype": "text/x-python",
   "name": "python",
   "nbconvert_exporter": "python",
   "pygments_lexer": "ipython3",
   "version": "3.7.3"
  }
 },
 "nbformat": 4,
 "nbformat_minor": 2
}
