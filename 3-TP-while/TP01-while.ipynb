{
 "cells": [
  {
   "cell_type": "markdown",
   "metadata": {},
   "source": [
    "<h1 style=\"color:teal;\">TP01 avec la structure while</h1>\n",
    "<h2>Fonction avec une boucle while</h2>"
   ]
  },
  {
   "cell_type": "markdown",
   "metadata": {},
   "source": [
    "Dans l'exemple ci-dessous on utilise une boucle <b style=\"color:green;\">while</b> à l'aide du mot clé\n",
    "<b style=\"color:green;\">while</b>.  \n",
    "Comme pour la structure if, il faut faire attention de ne pas oublier les \"<b>:</b>\" et **l'indentation**."
   ]
  },
  {
   "cell_type": "markdown",
   "metadata": {},
   "source": [
    "<h3 style=\"color:indigo;\">Exemple</h3>"
   ]
  },
  {
   "cell_type": "markdown",
   "metadata": {},
   "source": [
    "On estime que le prix d'une matière première augmente de 2 % chaque année.  \n",
    "Sachant qu'en 2019, le prix de cette matière première est de 500 euros la tonne, on souhaite estimer en quelle année le prix de cette matière première dépassera 600 euros la tonne pour la première fois.  \n",
    "La fonction <span style=\"color:blue;\">annee1</span>() définie ci-dessous, détermine l'année pour laquelle le prix de cette matière première aura atteint un prix noté **prix**.  \n",
    "Cliquer dans la cellule ci-dessous, puis cliquer dans la barre d'outils sur l'onglet **Exécuter** (**Run** en Anglais).  \n",
    "Le programme doit afficher \"<b style=\"color:red;\">2029</b>\" en sortie."
   ]
  },
  {
   "cell_type": "code",
   "execution_count": null,
   "metadata": {
    "collapsed": true
   },
   "outputs": [],
   "source": [
    "def annee1(prix):\n",
    "    an=2019\n",
    "    p=500\n",
    "    while p<prix:\n",
    "        p=1.02*p\n",
    "        an=an+1\n",
    "    return an\n",
    "#-------------------------------\n",
    "print(annee1(600))"
   ]
  },
  {
   "cell_type": "markdown",
   "metadata": {},
   "source": [
    "<h3 style=\"color:darkblue;\">Exercice</h3>"
   ]
  },
  {
   "cell_type": "markdown",
   "metadata": {},
   "source": [
    "On estime que le prix d'une matière première augmente de 1,8 % chaque année.  \n",
    "Sachant qu'en 2019, le prix de cette matière première est de 520 euros la tonne, on souhaite estimer en quelle année le prix de cette matière première dépassera 600 euros la tonne pour la première fois.  \n",
    "Modifier la fonction <span style=\"color:blue;\">annee2</span>() ci-dessous, afin qu'elle détermine en quelle année le prix de cette matière première dépassera 600 euros.  \n",
    "Cliquer dans la cellule ci-dessous, puis cliquer dans la barre d'outils sur l'onglet **Exécuter** (**Run** en Anglais).  \n",
    "Le programme doit afficher \"<b style=\"color:red;\">2028</b>\" en sortie."
   ]
  },
  {
   "cell_type": "code",
   "execution_count": 2,
   "metadata": {
    "collapsed": true
   },
   "outputs": [
    {
     "name": "stdout",
     "output_type": "stream",
     "text": [
      "2029\n"
     ]
    }
   ],
   "source": [
    "def annee2(prix):\n",
    "    an=2019\n",
    "    p=500\n",
    "    while p<prix:\n",
    "        p=1.02*p\n",
    "        an=an+1\n",
    "    return an\n",
    "#-------------------------------\n",
    "print(annee2(600))"
   ]
  },
  {
   "cell_type": "markdown",
   "metadata": {},
   "source": [
    "<h3 style=\"color:indigo;\">Vérification</h3>"
   ]
  },
  {
   "cell_type": "markdown",
   "metadata": {},
   "source": [
    "Pour vérifier que votre fonction s'exécute correctement, cliquer dans la cellule ci-dessous, puis dans la barre d'outils cliquer sur l'onglet **Exécuter** (**Run** en Anglais), le programme doit afficher \"<b style=\"color:green;\">Correct !</b>\" en sortie.  \n",
    "Si le programme affiche \"<b style=\"color:darkred;\">Incorrect !</b>\" c'est qu'il faut changer le code de la fonction ci-dessus et l'**Exécuter** à nouveau."
   ]
  },
  {
   "cell_type": "code",
   "execution_count": 3,
   "metadata": {
    "collapsed": true
   },
   "outputs": [
    {
     "name": "stdout",
     "output_type": "stream",
     "text": [
      "\u001b[5;31;48mIncorrect !\u001b[0m\n"
     ]
    }
   ],
   "source": [
    "from m.m3 import c1\n",
    "c1(annee2)"
   ]
  },
  {
   "cell_type": "markdown",
   "metadata": {},
   "source": [
    "<h3 style=\"color:darkblue;\">TP suivant</h3>"
   ]
  },
  {
   "cell_type": "markdown",
   "metadata": {},
   "source": [
    "Pour passer au TP suivant fermer l'onglet **TP01-while-Jupyter Notebook** en cliquant sur la croix,\n",
    "puis en cliquant sur **Quitter** si nécessaire.  \n",
    "Dans l'onglet précédent **3-TP-while** cliquer sur le fichier **TP02-while.ipynb** ."
   ]
  },
  {
   "cell_type": "markdown",
   "metadata": {},
   "source": [
    "<center style=\"font-size:12px;color:teal;\">TP Python de SNT en ligne du Lycée Anna de Noailles à Evian</center>"
   ]
  }
 ],
 "metadata": {
  "celltoolbar": "Aucun(e)",
  "kernelspec": {
   "display_name": "Python 3",
   "language": "python",
   "name": "python3"
  },
  "language_info": {
   "codemirror_mode": {
    "name": "ipython",
    "version": 3
   },
   "file_extension": ".py",
   "mimetype": "text/x-python",
   "name": "python",
   "nbconvert_exporter": "python",
   "pygments_lexer": "ipython3",
   "version": "3.7.3"
  }
 },
 "nbformat": 4,
 "nbformat_minor": 2
}
