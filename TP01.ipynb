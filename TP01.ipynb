{
 "cells": [
  {
   "cell_type": "markdown",
   "metadata": {},
   "source": [
    "<h1 style=\"color:teal;\">TP01 de SNT en ligne</h1>\n",
    "<h2>Apprendre à utiliser un notebook</h2>"
   ]
  },
  {
   "cell_type": "markdown",
   "metadata": {},
   "source": [
    "Une <span style=\"color:blue;\">cellule</span> qui contient du code Python est précédée du mot \n",
    "<span style=\"color:blue;\">Entrée [ ]:</span> (ou <span style=\"color:blue;\">In [ ]:</span> en Anglais).  \n",
    "Pour exécuter une <span style=\"color:blue;\">cellule</span> qui contient du code Python, \n",
    "il faut d'abord cliquer dans cette cellule,  \n",
    "puis il faut cliquer sur l'onglet **Exécuter** (ou **Run** en Anglais) situé dans la barre d'outils ci-dessus.  \n",
    "Il est important de bien exécuter les cellules dans l'ordre, c'est à dire du haut en bas.  \n"
   ]
  },
  {
   "cell_type": "markdown",
   "metadata": {},
   "source": [
    "<h3 style=\"color:indigo;\"> Exemple</h3>"
   ]
  },
  {
   "cell_type": "markdown",
   "metadata": {},
   "source": [
    "Cliquer dans la cellule ci-dessous, puis cliquer dans la barre d'outils sur l'onglet **Exécuter**\n",
    "(ou **Run** en Anglais),  \n",
    "le programme doit alors afficher <b style=\"color:red;\">Bonjour !</b> en sortie.  \n",
    "En effet, en Python la fonction <span style=\"color:blue;\">print</span>() permet d'afficher du texte."
   ]
  },
  {
   "cell_type": "code",
   "execution_count": 1,
   "metadata": {
    "scrolled": true
   },
   "outputs": [
    {
     "name": "stdout",
     "output_type": "stream",
     "text": [
      "Bonjour !\n"
     ]
    }
   ],
   "source": [
    "print(\"Bonjour !\")"
   ]
  },
  {
   "cell_type": "markdown",
   "metadata": {},
   "source": [
    "<h3 style=\"color:darkblue;\"> Exercice</h3>"
   ]
  },
  {
   "cell_type": "markdown",
   "metadata": {},
   "source": [
    "Modifier le code ci-dessous pour qu'il affiche\n",
    "\"<b style=\"color:red;\">Salut !</b>\" en sortie, à la place de \"Bonjour !\".  \n",
    "Puis cliquer dans la barre d'outils sur l'onglet **Exécuter** (ou **Run** en Anglais) pour vérifier que le programme affiche bien \"<b style=\"color:red;\">Salut !</b>\" en sortie."
   ]
  },
  {
   "cell_type": "code",
   "execution_count": 2,
   "metadata": {},
   "outputs": [
    {
     "name": "stdout",
     "output_type": "stream",
     "text": [
      "Bonjour !\n"
     ]
    }
   ],
   "source": [
    "print(\"Bonjour !\")"
   ]
  },
  {
   "cell_type": "markdown",
   "metadata": {},
   "source": [
    "<h3 style=\"color:darkblue;\">TP suivant</h3>"
   ]
  },
  {
   "cell_type": "markdown",
   "metadata": {},
   "source": [
    "Pour passer au TP02, fermer l'onglet **TP01-Jupyter Notebook** du navigateur, en cliquant sur la croix,\n",
    "puis en cliquant sur **Quitter** si vous n'avez pas enregistré votre travail.  \n",
    "Dans l'onglet précédent qui commence par **Home Page-Select**, cliquer ensuite sur le fichier **TP02.ipynb** ."
   ]
  },
  {
   "cell_type": "markdown",
   "metadata": {},
   "source": [
    "<center style=\"font-size:12px;color:teal;\">TP Python de SNT en ligne du Lycée Anna de Noailles à Evian</center>"
   ]
  }
 ],
 "metadata": {
  "kernelspec": {
   "display_name": "Python 3",
   "language": "python",
   "name": "python3"
  },
  "language_info": {
   "codemirror_mode": {
    "name": "ipython",
    "version": 3
   },
   "file_extension": ".py",
   "mimetype": "text/x-python",
   "name": "python",
   "nbconvert_exporter": "python",
   "pygments_lexer": "ipython3",
   "version": "3.7.3"
  }
 },
 "nbformat": 4,
 "nbformat_minor": 2
}
