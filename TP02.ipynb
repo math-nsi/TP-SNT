{
 "cells": [
  {
   "cell_type": "markdown",
   "metadata": {},
   "source": [
    "<h1 style=\"color:teal;\">TP02 de SNT en ligne</h1>\n",
    "<h2>Définir une fonction</h2>"
   ]
  },
  {
   "cell_type": "markdown",
   "metadata": {},
   "source": [
    "Pour définir une fonction en python, il faut utiliser le mot clé <b style=\"color:green;\">def</b> et les parenthèses.  \n",
    "Dans l'exemple ci-dessous, on définit une fonction <span style=\"color:blue;\">bonjour</span>() qui va afficher\n",
    "\"<b style=\"color:red;\">Bonjour !</b>\" en sortie.  \n",
    "Attention à la syntaxe : \n",
    "<ul>\n",
    "    <li>il ne faut pas oublier les deux points \"<b>:</b>\" après les parenthèses ;</li> \n",
    "    <li>il ne faut pas oublier <b>l'indentation</b>, c'est à dire le décallage de 4 espaces vers la droite, avant de rédiger le code de la fonction.</li>\n",
    "    <li>la ligne précédée du symbole # est un commentaire pour indiquer la fin de la définition de la fonction.</li>\n",
    "</ul>\n",
    "Pour exécuter la fonction, il faut simplement l'appeler après l'avoir définie sans utiliser le mot clé\n",
    "<b style=\"color:green;\">def</b>.  "
   ]
  },
  {
   "cell_type": "markdown",
   "metadata": {},
   "source": [
    "<h3 style=\"color:indigo;\">Exemple</h3>"
   ]
  },
  {
   "cell_type": "markdown",
   "metadata": {},
   "source": [
    "Cliquer dans la cellule ci-dessous, puis cliquer dans la barre d'outils sur l'onglet **Exécuter**\n",
    "(ou **Run** en Anglais),  \n",
    "le programme doit alors afficher \"<b style=\"color:red;\">Bonjour !</b>\" en sortie."
   ]
  },
  {
   "cell_type": "code",
   "execution_count": null,
   "metadata": {
    "scrolled": true
   },
   "outputs": [],
   "source": [
    "def bonjour():\n",
    "    print(\"Bonjour !\")\n",
    "#---------------------------------\n",
    "bonjour()"
   ]
  },
  {
   "cell_type": "markdown",
   "metadata": {},
   "source": [
    "<h3 style=\"color:darkblue;\">Exercice</h3>"
   ]
  },
  {
   "cell_type": "markdown",
   "metadata": {},
   "source": [
    "\n",
    "Modifier la fonction <span style=\"color:blue;\">salut</span>() dans la cellule ci-dessous\n",
    "(avant les tirets)\n",
    "pour qu'elle affiche \"<b style=\"color:red\">Salut !</b>\" en sortie.  \n",
    "Puis cliquer dans la barre d'outils sur l'onglet **Exécuter** (ou **Run** en Anglais), le programme doit afficher\n",
    "\"<b style=\"color:red\">Salut !</b>\" en sortie."
   ]
  },
  {
   "cell_type": "code",
   "execution_count": null,
   "metadata": {},
   "outputs": [],
   "source": [
    "def salut():\n",
    "    print(\"Bonjour !\")   \n",
    "#----------------------------------\n",
    "salut()"
   ]
  },
  {
   "cell_type": "markdown",
   "metadata": {},
   "source": [
    "<h3 style=\"color:darkblue;\">TP suivant</h3>"
   ]
  },
  {
   "cell_type": "markdown",
   "metadata": {},
   "source": [
    "\n",
    "Pour passer au TP03 fermer l'onglet **TP02-Jupyter Notebook** en cliquant sur la croix,\n",
    "puis en cliquant sur **Quitter** si vous n'avez pas enregistré.  \n",
    "Dans l'onglet précédent qui commence par **Home Page-Select**,\n",
    "puis cliquer sur le fichier **TP03.ipynb** ."
   ]
  },
  {
   "cell_type": "markdown",
   "metadata": {},
   "source": [
    "<center style=\"font-size:12px;color:teal;\">TP Python de SNT en ligne du Lycée Anna de Noailles à Evian</center>"
   ]
  }
 ],
 "metadata": {
  "kernelspec": {
   "display_name": "Python 3",
   "language": "python",
   "name": "python3"
  },
  "language_info": {
   "codemirror_mode": {
    "name": "ipython",
    "version": 3
   },
   "file_extension": ".py",
   "mimetype": "text/x-python",
   "name": "python",
   "nbconvert_exporter": "python",
   "pygments_lexer": "ipython3",
   "version": "3.7.3"
  }
 },
 "nbformat": 4,
 "nbformat_minor": 2
}
