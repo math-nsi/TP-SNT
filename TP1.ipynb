{
 "cells": [
  {
   "cell_type": "markdown",
   "metadata": {},
   "source": [
    "# Premier TP de SNT en ligne\n",
    "## Apprendre à utiliser un notebook"
   ]
  },
  {
   "cell_type": "markdown",
   "metadata": {},
   "source": [
    "Pour exécuter une **cellule** qui contient du code Python, il faut d'abord cliquer dans cette cellule,  \n",
    "puis cliquer sur l'onglet <b style=\"color:blue;\">Exécuter</b> situé dans la barre d'outils ci-dessus.  \n",
    "**Exemple :** Cliquer dans la cellule ci-dessous, puis cliquer sur l'onglet <b style=\"color:blue;\">Exécuter</b> le programme doit alors afficher \"Bonjour !\" en sortie."
   ]
  },
  {
   "cell_type": "code",
   "execution_count": null,
   "metadata": {
    "scrolled": true
   },
   "outputs": [],
   "source": [
    "print(\"Bonjour !\")"
   ]
  },
  {
   "cell_type": "markdown",
   "metadata": {},
   "source": [
    "### Exercice :\n",
    "Modifier le code ci-dessous pour qu'il affiche\n",
    "<b style=\"color:red;\"> \"Salut !\"</b> en sortie.\n",
    "Puis cliquer sur <b style=\"color:blue;\">Exécuter</b> pour vérifier que cela fonctionne correctement."
   ]
  },
  {
   "cell_type": "code",
   "execution_count": null,
   "metadata": {},
   "outputs": [],
   "source": [
    "print(\"Bonjour !\")"
   ]
  }
 ],
 "metadata": {
  "kernelspec": {
   "display_name": "Python 3",
   "language": "python",
   "name": "python3"
  },
  "language_info": {
   "codemirror_mode": {
    "name": "ipython",
    "version": 3
   },
   "file_extension": ".py",
   "mimetype": "text/x-python",
   "name": "python",
   "nbconvert_exporter": "python",
   "pygments_lexer": "ipython3",
   "version": "3.7.3"
  }
 },
 "nbformat": 4,
 "nbformat_minor": 2
}
