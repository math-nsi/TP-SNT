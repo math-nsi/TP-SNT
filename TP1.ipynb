{
 "cells": [
  {
   "cell_type": "markdown",
   "metadata": {},
   "source": [
    "<h1 style=\"color:teal;\">TP1 de SNT en ligne</h1>\n",
    "<h2>Apprendre à utiliser un notebook</h2>"
   ]
  },
  {
   "cell_type": "markdown",
   "metadata": {},
   "source": [
    "Une cellule qui contient du code Python est précédée du mot <span style=\"color:blue;\">Entrée [ ]:</span>  \n",
    "Pour exécuter une **cellule** qui contient du code Python, il faut d'abord cliquer dans cette cellule,  \n",
    "puis il faut cliquer sur l'onglet <b style=\"color:blue;\">Exécuter</b> situé dans la barre d'outils ci-dessus.  \n",
    "Il est important de bien exécuter les cellules dans l'ordre, c'est à dire du haut en bas.  \n",
    "**Exemple :** Cliquer dans la cellule ci-dessous, puis cliquer dans la barre d'outils sur l'onglet <b style=\"color:blue;\">Exécuter</b>,  \n",
    "le programme doit alors afficher \"<b style=\"color:red;\">Bonjour !</b>\" en sortie."
   ]
  },
  {
   "cell_type": "code",
   "execution_count": null,
   "metadata": {
    "scrolled": true
   },
   "outputs": [],
   "source": [
    "print(\"Bonjour !\")"
   ]
  },
  {
   "cell_type": "markdown",
   "metadata": {},
   "source": [
    "### Exercice\n",
    "Modifier le code ci-dessous pour qu'il affiche\n",
    "\"<b style=\"color:red;\">Salut !</b>\" en sortie, à la place de \"Bonjour !\".  \n",
    "Puis cliquer dans la barre d'outils sur l'onglet <b style=\"color:blue;\">Exécuter</b> pour vérifier que le programme affiche bien \"<b style=\"color:red;\">Salut !</b>\" en sortie."
   ]
  },
  {
   "cell_type": "code",
   "execution_count": null,
   "metadata": {},
   "outputs": [],
   "source": [
    "print(\"Bonjour !\")"
   ]
  },
  {
   "cell_type": "markdown",
   "metadata": {},
   "source": [
    "### TP suivant\n",
    "Pour passer au TP2, fermer l'onglet **TP1-Jupyter Notebook** du navigateur, en cliquant sur la croix,\n",
    "puis en cliquant sur **Quitter la page**.  \n",
    "Dans l'onglet précédent qui commence par **Home Page-Select**, cliquer ensuite sur le fichier **TP2.ipynb** ."
   ]
  },
  {
   "cell_type": "markdown",
   "metadata": {},
   "source": [
    "<center style=\"font-size:12px;color:teal;\">TP Python de SNT en ligne du Lycée Anna de Noailles à Evian</center>"
   ]
  }
 ],
 "metadata": {
  "kernelspec": {
   "display_name": "Python 3",
   "language": "python",
   "name": "python3"
  },
  "language_info": {
   "codemirror_mode": {
    "name": "ipython",
    "version": 3
   },
   "file_extension": ".py",
   "mimetype": "text/x-python",
   "name": "python",
   "nbconvert_exporter": "python",
   "pygments_lexer": "ipython3",
   "version": "3.7.3"
  }
 },
 "nbformat": 4,
 "nbformat_minor": 2
}
