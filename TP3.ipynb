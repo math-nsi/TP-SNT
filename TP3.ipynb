{
 "cells": [
  {
   "cell_type": "markdown",
   "metadata": {},
   "source": [
    "# TP3 de SNT en ligne\n",
    "## Fonction avec une structure conditionnelle"
   ]
  },
  {
   "cell_type": "markdown",
   "metadata": {},
   "source": [
    "La fonction définie ci-dessous retourne le montant à payer pour n places de cinéma achetées,\n",
    "sachant qu'une place coûte 8 euros au tarif normal et 6 euros au tarif réduit. Le tarif réduit s'applique à partir de 5 places achetées."
   ]
  },
  {
   "cell_type": "code",
   "execution_count": null,
   "metadata": {
    "scrolled": true
   },
   "outputs": [],
   "source": [
    "def montant1(n):\n",
    "    if n<5:\n",
    "        return 8*n\n",
    "    else:\n",
    "        return 6*n\n",
    "montant1(10)"
   ]
  },
  {
   "cell_type": "code",
   "execution_count": null,
   "metadata": {},
   "outputs": [],
   "source": []
  },
  {
   "cell_type": "markdown",
   "metadata": {},
   "source": [
    "### Exercice :\n",
    "Rédiger la fonction montant2() ci-dessous pour qu'elle retourne le montant à payer si on commande n livres sur un site, sachant que les frais de port sont de 10 euros, qu'un livre coûte 11 euros et que les frais de port sont offerts à partir de 8 livres commandés.  \n",
    "Puis cliquer sur l'onglet <b style=\"color:blue;\">Exécuter</b>, le programme doit afficher \"88\" en sortie."
   ]
  },
  {
   "cell_type": "code",
   "execution_count": null,
   "metadata": {},
   "outputs": [],
   "source": [
    "def montant2(n):\n",
    "    \n",
    "montant2(8)"
   ]
  },
  {
   "cell_type": "markdown",
   "metadata": {},
   "source": [
    "### Vérification\n",
    "Pour vérifier que votre fonction fonctionne correctement, cliquer dans la cellule ci-dessous, puis cliquer sur l'onglet <b style=\"color:blue;\">Exécuter</b>, le programme doit afficher \"Correct !\" en sortie."
   ]
  },
  {
   "cell_type": "code",
   "execution_count": null,
   "metadata": {},
   "outputs": [],
   "source": [
    "def correction():\n",
    "    test=0\n",
    "    for i in range(1,10):\n",
    "        if i<8:\n",
    "            m=11*i+10\n",
    "        else:\n",
    "            m=11*i\n",
    "        if m!=montant2(i):\n",
    "            test=1\n",
    "    if test==0: \n",
    "        print(\"Correct !\")\n",
    "    else:\n",
    "        print(\"Incorrect !\")\n",
    "correction()"
   ]
  },
  {
   "cell_type": "code",
   "execution_count": null,
   "metadata": {},
   "outputs": [],
   "source": []
  }
 ],
 "metadata": {
  "kernelspec": {
   "display_name": "Python 3",
   "language": "python",
   "name": "python3"
  },
  "language_info": {
   "codemirror_mode": {
    "name": "ipython",
    "version": 3
   },
   "file_extension": ".py",
   "mimetype": "text/x-python",
   "name": "python",
   "nbconvert_exporter": "python",
   "pygments_lexer": "ipython3",
   "version": "3.7.3"
  }
 },
 "nbformat": 4,
 "nbformat_minor": 2
}
