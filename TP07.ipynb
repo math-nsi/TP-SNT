{
 "cells": [
  {
   "cell_type": "markdown",
   "metadata": {},
   "source": [
    "<h1 style=\"color:teal;\">TP07 de SNT en ligne</h1>\n",
    "<h2>Fonction avec une structure conditionnelle</h2>"
   ]
  },
  {
   "cell_type": "markdown",
   "metadata": {},
   "source": [
    "On veut commander des livres qui coûtent 12 euros pièce sur un site en ligne.  \n",
    "Les frais de port sont de 10 euros si le total de la commande est strictement inférieur à 50 euros et sont offerts si la commande dépasse 50 euros.  \n",
    "La fonction <span style=\"color:blue;\">prix1</span>() définie ci-dessous retourne le prix en euros à payer pour le client en fonction du nombre n de livres commandés.  \n",
    "Cliquer dans la cellule ci-dessous, puis cliquer dans la barre d'outils sur l'onglet **Exécuter**,\n",
    "le programme doit afficher \"<b style=\"color:red;\">58</b>\" puis \"<b style=\"color:red;\">96</b>\" en sortie."
   ]
  },
  {
   "cell_type": "code",
   "execution_count": null,
   "metadata": {
    "scrolled": true
   },
   "outputs": [],
   "source": [
    "def prix1(n):\n",
    "    if 12*n<50:\n",
    "        return 12*n+10\n",
    "    else:\n",
    "        return 12*n\n",
    "#-----------------------------\n",
    "print(prix1(4))\n",
    "print(prix1(8))"
   ]
  },
  {
   "cell_type": "markdown",
   "metadata": {},
   "source": [
    "<h3 style=\"color:darkblue;\">Exercice</h3>"
   ]
  },
  {
   "cell_type": "markdown",
   "metadata": {},
   "source": [
    "On veut commander des livres qui coûtent 11 euros pièce sur un site en ligne.  \n",
    "Les frais de port sont de 8 euros si le total de la commande est strictement inférieur à 60 euros et sont offerts si la commande dépasse 60 euros.  \n",
    "Modifier la fonction <span style=\"color:blue;\">prix2</span>() ci-dessous (avant les tirets), afin qu'elle retourne le prix en euros à payer pour le client en fonction du nombre n de livres commandés.  \n",
    "Cliquer dans la cellule ci-dessous, puis cliquer dans la barre d'outils sur l'onglet **Exécuter**,\n",
    "le programme doit afficher \"<b style=\"color:red;\">52</b>\" puis \"<b style=\"color:red;\">88</b>\" en sortie."
   ]
  },
  {
   "cell_type": "code",
   "execution_count": null,
   "metadata": {},
   "outputs": [],
   "source": [
    "def prix2(n):\n",
    "    if 12*n<50:\n",
    "        return 12*n+10\n",
    "    else:\n",
    "        return 12*n\n",
    "#-----------------------------\n",
    "print(prix2(4))\n",
    "print(prix2(8))"
   ]
  },
  {
   "cell_type": "markdown",
   "metadata": {},
   "source": [
    "<h3 style=\"color:indigo;\">Vérification</h3>"
   ]
  },
  {
   "cell_type": "markdown",
   "metadata": {},
   "source": [
    "Pour vérifier que votre fonction s'exécute correctement, cliquer dans la cellule ci-dessous, puis dans la barre d'outils cliquer sur l'onglet **Exécuter**, le programme doit afficher \"<b style=\"color:green;\">Correct !</b>\" en sortie.  \n",
    "Si le programme affiche \"<b style=\"color:darkred;\">Incorrect !</b>\" c'est qu'il faut changer le code de la fonction <span style=\"color:blue;\">prix2</span>() et l'**Exécuter** à nouveau."
   ]
  },
  {
   "cell_type": "code",
   "execution_count": null,
   "metadata": {},
   "outputs": [],
   "source": [
    "from m1 import c7\n",
    "c7(prix2)"
   ]
  },
  {
   "cell_type": "markdown",
   "metadata": {},
   "source": [
    "<h3 style=\"color:darkblue;\">TP suivant</h3>"
   ]
  },
  {
   "cell_type": "markdown",
   "metadata": {},
   "source": [
    "Pour passer au TP08 fermer l'onglet **TP07-Jupyter Notebook** en cliquant sur la croix,\n",
    "puis en cliquant sur **Quitter la page** si nécessaire.  \n",
    "Dans l'onglet précédent qui commence par **Home Page-Select** cliquer sur le fichier **TP08.ipynb** ."
   ]
  },
  {
   "cell_type": "markdown",
   "metadata": {},
   "source": [
    "<center style=\"font-size:12px;color:teal;\">TP Python de SNT en ligne du Lycée Anna de Noailles à Evian</center>"
   ]
  }
 ],
 "metadata": {
  "kernelspec": {
   "display_name": "Python 3",
   "language": "python",
   "name": "python3"
  },
  "language_info": {
   "codemirror_mode": {
    "name": "ipython",
    "version": 3
   },
   "file_extension": ".py",
   "mimetype": "text/x-python",
   "name": "python",
   "nbconvert_exporter": "python",
   "pygments_lexer": "ipython3",
   "version": "3.7.3"
  }
 },
 "nbformat": 4,
 "nbformat_minor": 2
}
