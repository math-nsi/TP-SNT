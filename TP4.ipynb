{
 "cells": [
  {
   "cell_type": "markdown",
   "metadata": {},
   "source": [
    "<h1 style=\"color:teal;\">TP4 de SNT en ligne</h1>\n",
    "<h2>Fonction avec deux structures conditionnelles</h2>"
   ]
  },
  {
   "cell_type": "markdown",
   "metadata": {},
   "source": [
    "Un supermarché, accorde une remise de 5 % si le montant du caddie est strictement compris entre 100 euros et 200 euros et une remise de 10 % si le montant du caddie est supérieur ou égal à 200 euros.  \n",
    "La fonction <span style=\"color:blue;\">prix1</span>() définie ci-dessous, retourne le prix à payer pour le client après remise, en fonction du montant du caddie noté M.  \n",
    "Cliquer dans la cellule ci-dessous, puis cliquer dans la barre d'outils sur l'onglet \n",
    "**Exécuter**, le programme doit afficher \"<b style=\"color:red\">225.0</b>\" en sortie."
   ]
  },
  {
   "cell_type": "code",
   "execution_count": null,
   "metadata": {
    "scrolled": true
   },
   "outputs": [],
   "source": [
    "def prix1(M):\n",
    "    if M>=200:\n",
    "        return 0.90*M\n",
    "    else:\n",
    "        if M>100:\n",
    "            return 0.95*M\n",
    "        else:\n",
    "            return M\n",
    "prix1(250)"
   ]
  },
  {
   "cell_type": "markdown",
   "metadata": {},
   "source": [
    "### Exercice\n",
    "Un supermarché, accorde une remise de 6 % si le montant du caddie est strictement compris entre 80 euros et 150 euros et une remise de 15 % si le montant du caddie est supérieur ou égal à 150 euros.  \n",
    "Modifier la fonction <span style=\"color:blue;\">prix2</span>() définie ci-dessous, pour qu'elle retourne le prix à payer pour le client après remise, en fonction du montant du caddie noté M.  \n",
    "Puis cliquer dans la barre d'outils sur l'onglet **Exécuter**, le programme doit afficher \"<b style=\"color:red\">212.5</b>\" en sortie."
   ]
  },
  {
   "cell_type": "code",
   "execution_count": null,
   "metadata": {},
   "outputs": [],
   "source": [
    "def prix2(M):\n",
    "    if M>=200:\n",
    "        return 0.90*M\n",
    "    else:\n",
    "        if M>100:\n",
    "            return 0.95*M\n",
    "        else:\n",
    "            return M\n",
    "prix2(250)"
   ]
  },
  {
   "cell_type": "markdown",
   "metadata": {},
   "source": [
    "### Vérification\n",
    "Pour vérifier que votre fonction s'exécute correctement, cliquer dans la cellule ci-dessous, puis cliquer dans la barre d'outils sur l'onglet <b style=\"color:blue;\">Exécuter</b>, le programme doit afficher \n",
    "\"<b style=\"color:green;\">Correct !</b>\" en sortie."
   ]
  },
  {
   "cell_type": "code",
   "execution_count": null,
   "metadata": {},
   "outputs": [],
   "source": [
    "from mod1 import ctp4\n",
    "ctp4(prix2)"
   ]
  },
  {
   "cell_type": "markdown",
   "metadata": {},
   "source": [
    "### TP suivant\n",
    "Pour passer au TP5 fermer l'onglet **TP4-Jupyter Notebook** en cliquant sur la croix,\n",
    "puis en cliquant sur **Quitter la page**.  \n",
    "Dans l'onglet précédent qui commence par **Home Page-Select** cliquer sur le fichier **TP5.ipynb** ."
   ]
  },
  {
   "cell_type": "markdown",
   "metadata": {},
   "source": [
    "<center style=\"font-size:12px;color:teal;\">TP Python de SNT en ligne du Lycée Anna de Noailles à Evian</center>"
   ]
  }
 ],
 "metadata": {
  "kernelspec": {
   "display_name": "Python 3",
   "language": "python",
   "name": "python3"
  },
  "language_info": {
   "codemirror_mode": {
    "name": "ipython",
    "version": 3
   },
   "file_extension": ".py",
   "mimetype": "text/x-python",
   "name": "python",
   "nbconvert_exporter": "python",
   "pygments_lexer": "ipython3",
   "version": "3.7.3"
  }
 },
 "nbformat": 4,
 "nbformat_minor": 2
}
