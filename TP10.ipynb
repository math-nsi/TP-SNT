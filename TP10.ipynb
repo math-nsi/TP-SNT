{
 "cells": [
  {
   "cell_type": "markdown",
   "metadata": {},
   "source": [
    "<h1 style=\"color:teal;\">TP10 de SNT en ligne</h1>\n",
    "<h2>Fonction avec une structure conditionnelle</h2>"
   ]
  },
  {
   "cell_type": "markdown",
   "metadata": {},
   "source": [
    "Une mutuelle d'entreprise prélève les cotisations directement sur le salaire net des employés.  \n",
    "Pour les salaires strictement au dessous de 1700 euros, les cotisations représentent 6 % du salaire net, et pour les salaires supérieurs ou égaux à 1700 euros, les cotisations représentent 8 % du salaire net.  \n",
    "La fonction <span style=\"color:blue;\">cotisation1</span>() définie ci-dessous retourne la cotisation d'un employé à cette mutuelle, en fonction de son salaire net S.  \n",
    "Cliquer dans la cellule ci-dessous, puis cliquer dans la barre d'outils sur l'onglet **Exécuter**,\n",
    "le programme doit afficher \"<b style=\"color:red;\">84.0</b>\" puis \"<b style=\"color:red;\">144.0</b>\" en sortie."
   ]
  },
  {
   "cell_type": "code",
   "execution_count": null,
   "metadata": {
    "scrolled": true
   },
   "outputs": [],
   "source": [
    "def cotisation1(S):\n",
    "    if S<1700:\n",
    "        return 0.06*S\n",
    "    else:\n",
    "        return 0.08*S\n",
    "#-------------------------------\n",
    "print(cotisation1(1400))\n",
    "print(cotisation1(1800))"
   ]
  },
  {
   "cell_type": "markdown",
   "metadata": {},
   "source": [
    "<h3 style=\"color:darkblue;\">Exercice</h3>"
   ]
  },
  {
   "cell_type": "markdown",
   "metadata": {},
   "source": [
    "Une mutuelle d'entreprise prélève les cotisations directement sur le salaire net des employés.  \n",
    "Pour les salaires strictement au dessous de 1600 euros, les cotisations représentent 9 % du salaire net, et pour les salaires supérieurs ou égaux à 1600 euros, les cotisations représentent 11 % du salaire net.  \n",
    "Rédiger la fonction <span style=\"color:blue;\">cotisation2</span>() ci-dessous, afin qu'elle retourne la cotisation d'un employé à cette mutuelle, en fonction de son salaire net S.  \n",
    "Cliquer dans la cellule ci-dessous, puis cliquer dans la barre d'outils sur l'onglet **Exécuter**,\n",
    "le programme doit afficher \"<b style=\"color:red;\">126.0</b>\" puis \"<b style=\"color:red;\">198.0</b>\" en sortie."
   ]
  },
  {
   "cell_type": "code",
   "execution_count": null,
   "metadata": {},
   "outputs": [],
   "source": [
    "def cotisation2(S):\n",
    "    \n",
    "#-------------------------------\n",
    "print(cotisation2(1400))\n",
    "print(cotisation2(1800))"
   ]
  },
  {
   "cell_type": "markdown",
   "metadata": {},
   "source": [
    "<h3 style=\"color:indigo;\">Vérification</h3>"
   ]
  },
  {
   "cell_type": "markdown",
   "metadata": {},
   "source": [
    "Pour vérifier que votre fonction s'exécute correctement, cliquer dans la cellule ci-dessous, puis dans la barre d'outils cliquer sur l'onglet **Exécuter**, le programme doit afficher \"<b style=\"color:green;\">Correct !</b>\" en sortie.  \n",
    "Si le programme affiche \"<b style=\"color:darkred;\">Incorrect !</b>\" c'est qu'il faut changer le code de la fonction <span style=\"color:blue;\">cotisation2</span>() et l'**Exécuter** à nouveau."
   ]
  },
  {
   "cell_type": "code",
   "execution_count": null,
   "metadata": {},
   "outputs": [],
   "source": [
    "from m1 import c10\n",
    "c10(cotisation2)"
   ]
  },
  {
   "cell_type": "markdown",
   "metadata": {},
   "source": [
    "<h3 style=\"color:darkblue;\">TP suivant</h3>"
   ]
  },
  {
   "cell_type": "markdown",
   "metadata": {},
   "source": [
    "Pour passer au TP11 fermer l'onglet **TP10-Jupyter Notebook** en cliquant sur la croix,\n",
    "puis en cliquant sur **Quitter** si vous n'avez pas enregistré.  \n",
    "Dans l'onglet précédent qui commence par **Home Page-Select** cliquer sur le fichier **TP11.ipynb** ."
   ]
  },
  {
   "cell_type": "markdown",
   "metadata": {},
   "source": [
    "<center style=\"font-size:12px;color:teal;\">TP Python de SNT en ligne du Lycée Anna de Noailles à Evian</center>"
   ]
  }
 ],
 "metadata": {
  "celltoolbar": "Aucun(e)",
  "kernelspec": {
   "display_name": "Python 3",
   "language": "python",
   "name": "python3"
  },
  "language_info": {
   "codemirror_mode": {
    "name": "ipython",
    "version": 3
   },
   "file_extension": ".py",
   "mimetype": "text/x-python",
   "name": "python",
   "nbconvert_exporter": "python",
   "pygments_lexer": "ipython3",
   "version": "3.7.3"
  }
 },
 "nbformat": 4,
 "nbformat_minor": 2
}
