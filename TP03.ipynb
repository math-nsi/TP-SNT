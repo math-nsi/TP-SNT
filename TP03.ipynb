{
 "cells": [
  {
   "cell_type": "markdown",
   "metadata": {},
   "source": [
    "<h1 style=\"color:teal;\">TP03 de SNT en ligne</h1>\n",
    "<h2>Fonction qui retourne une valeur</h2>"
   ]
  },
  {
   "cell_type": "markdown",
   "metadata": {},
   "source": [
    "La fonction <span style=\"color:blue;\">somme</span>() définie ci-dessous retourne la somme des deux valeurs a et b\n",
    "qui sont les deux **paramètres** de cette fonction.  \n",
    "Le mot clé pour retourner une valeur est <b style=\"color:green;\">return</b>.  \n",
    "Cliquer dans la cellule ci-dessous, puis cliquer dans la barre d'outils sur l'onglet \n",
    "**Exécuter**, le programme doit afficher \"<b style=\"color:red\">10</b>\" puis \"<b style=\"color:red\">15</b>\" en sortie."
   ]
  },
  {
   "cell_type": "code",
   "execution_count": null,
   "metadata": {
    "scrolled": true
   },
   "outputs": [],
   "source": [
    "def somme(a,b):\n",
    "    return a+b\n",
    "#------------------------------\n",
    "print(somme(7,3))\n",
    "print(somme(8,7))"
   ]
  },
  {
   "cell_type": "markdown",
   "metadata": {},
   "source": [
    "<h3 style=\"color:darkblue;\">Exercice</h3>"
   ]
  },
  {
   "cell_type": "markdown",
   "metadata": {},
   "source": [
    "Modifier la fonction <span style=\"color:blue;\">soustraction</span>() ci-dessous\n",
    "(avant les tirets), pour qu'elle retourne la soustraction a - b des deux paramètres a et b.<br>\n",
    "Puis cliquer dans la barre d'outils sur l'onglet <b>Exécuter</b>, \n",
    "le programme doit afficher \"<b style=\"color:red\">4</b>\" puis \"<b style=\"color:red\">1</b>\" en sortie."
   ]
  },
  {
   "cell_type": "code",
   "execution_count": null,
   "metadata": {},
   "outputs": [],
   "source": [
    "def soustraction(a,b):\n",
    "    return a+b\n",
    "#------------------------------\n",
    "print(soustraction(7,3))\n",
    "print(soustraction(8,7))"
   ]
  },
  {
   "cell_type": "markdown",
   "metadata": {},
   "source": [
    "<h3 style=\"color:indigo;\">Vérification</h3>"
   ]
  },
  {
   "cell_type": "markdown",
   "metadata": {},
   "source": [
    "Pour vérifier que votre fonction s'exécute correctement, cliquer dans la cellule ci-dessous, puis cliquer dans la barre d'outils sur l'onglet **Exécuter**, le programme doit afficher \n",
    "\"<b style=\"color:green;\">Correct !</b>\" en sortie.  \n",
    "Si le programme affiche \"<b style=\"color:darkred;\">Incorrect !</b>\" c'est qu'il faut changer le code de \n",
    "la fonction <span style=\"color:blue;\">soustraction</span>() et l'**Exécuter** à nouveau."
   ]
  },
  {
   "cell_type": "code",
   "execution_count": null,
   "metadata": {},
   "outputs": [],
   "source": [
    "from m1 import c3\n",
    "c3(soustraction)"
   ]
  },
  {
   "cell_type": "markdown",
   "metadata": {},
   "source": [
    "<h3 style=\"color:darkblue;\">TP suivant</h3>"
   ]
  },
  {
   "cell_type": "markdown",
   "metadata": {},
   "source": [
    "Pour passer au TP04 fermer l'onglet **TP03-Jupyter Notebook** en cliquant sur la croix,\n",
    "puis en cliquant sur **Quitter la page** si nécessaire.  \n",
    "Dans l'onglet précédent qui commence par **Home Page-Select** cliquer sur le fichier **TP04.ipynb** ."
   ]
  },
  {
   "cell_type": "markdown",
   "metadata": {},
   "source": [
    "<center style=\"font-size:12px;color:teal;\">TP Python de SNT en ligne du Lycée Anna de Noailles à Evian</center>"
   ]
  }
 ],
 "metadata": {
  "kernelspec": {
   "display_name": "Python 3",
   "language": "python",
   "name": "python3"
  },
  "language_info": {
   "codemirror_mode": {
    "name": "ipython",
    "version": 3
   },
   "file_extension": ".py",
   "mimetype": "text/x-python",
   "name": "python",
   "nbconvert_exporter": "python",
   "pygments_lexer": "ipython3",
   "version": "3.7.3"
  }
 },
 "nbformat": 4,
 "nbformat_minor": 2
}
