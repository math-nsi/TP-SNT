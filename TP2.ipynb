{
 "cells": [
  {
   "cell_type": "markdown",
   "metadata": {},
   "source": [
    "# TP2 de SNT en ligne\n",
    "## Fonction avec une structure conditionnelle"
   ]
  },
  {
   "cell_type": "markdown",
   "metadata": {},
   "source": [
    "La fonction maximum() définie ci-dessous retourne la valeur maximum entre a et b.  \n",
    "Cliquer dans la cellule ci-dessous, puis cliquer sur l'onglet <b style=\"color:blue;\">Exécuter</b>,\n",
    "le programme doit afficher \"10\" en sortie."
   ]
  },
  {
   "cell_type": "code",
   "execution_count": null,
   "metadata": {
    "scrolled": true
   },
   "outputs": [],
   "source": [
    "def maximum(a,b):\n",
    "    if a>b:\n",
    "        return a\n",
    "    else:\n",
    "        return b\n",
    "maximum(10,5)"
   ]
  },
  {
   "cell_type": "markdown",
   "metadata": {},
   "source": [
    "### Exercice :\n",
    "Modifier la fonction minimum() ci-dessous pour qu'elle retourne la valeur minimum entre a et b.  \n",
    "Puis cliquer sur l'onglet <b style=\"color:blue;\">Exécuter</b>, le programme doit afficher \"5\" en sortie."
   ]
  },
  {
   "cell_type": "code",
   "execution_count": null,
   "metadata": {},
   "outputs": [],
   "source": [
    "def minimum(a,b):\n",
    "    if a>b:\n",
    "        return a\n",
    "    else:\n",
    "        return b\n",
    "minimum(10,5)"
   ]
  },
  {
   "cell_type": "markdown",
   "metadata": {},
   "source": [
    "### Vérification\n",
    "Pour vérifier que votre fonction fonctionne correctement, cliquer dans la cellule ci-dessous, puis cliquer sur l'onglet <b style=\"color:blue;\">Exécuter</b>, le programme doit afficher \"Correct !\" en sortie."
   ]
  },
  {
   "cell_type": "code",
   "execution_count": null,
   "metadata": {},
   "outputs": [],
   "source": [
    "def correction():\n",
    "    test=0\n",
    "    for i in range(100):\n",
    "        for j in range(100):\n",
    "            if i<j and minimum(i,j)!=i:\n",
    "                test=1\n",
    "    if test==0:\n",
    "        print(\"Correct !\")\n",
    "    else:\n",
    "        print(\"Incorrect !\")\n",
    "correction()"
   ]
  },
  {
   "cell_type": "markdown",
   "metadata": {},
   "source": [
    "### TP suivant\n",
    "Pour passer au TP3 cliquer sur l'onglet **File** dans la barre d'outils ci-dessus, puis choisir **Open...**, puis cliquer sur le fichier **TP3.ipynb**."
   ]
  }
 ],
 "metadata": {
  "kernelspec": {
   "display_name": "Python 3",
   "language": "python",
   "name": "python3"
  },
  "language_info": {
   "codemirror_mode": {
    "name": "ipython",
    "version": 3
   },
   "file_extension": ".py",
   "mimetype": "text/x-python",
   "name": "python",
   "nbconvert_exporter": "python",
   "pygments_lexer": "ipython3",
   "version": "3.7.3"
  }
 },
 "nbformat": 4,
 "nbformat_minor": 2
}
