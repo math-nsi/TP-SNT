{
 "cells": [
  {
   "cell_type": "markdown",
   "metadata": {},
   "source": [
    "<h1 style=\"color:teal;\">TP03 avec la structure if</h1>\n",
    "<h2>Fonction avec une structure conditionnelle</h2>"
   ]
  },
  {
   "cell_type": "markdown",
   "metadata": {},
   "source": [
    "<h3 style=\"color:indigo;\">Exemple</h3>"
   ]
  },
  {
   "cell_type": "markdown",
   "metadata": {},
   "source": [
    "Dans un magasin, on applique une réduction de 5 % si le montant des achats est supérieur ou égal à 100 euros.  \n",
    "La fonction <span style=\"color:blue;\">prix1</span>() définie ci-dessous retourne le prix en euros à payer pour le client en fonction du montant m de ces achats.  \n",
    "On rappelle que réduire une quantité de 5 % revient à la multiplier par ( 1 - 5 % ) = ( 1 - 0.05 ) = 0.95 .  \n",
    "Attention pour les nombres décimaux, il faut uiliser le \".\" et non la virgule \",\" pour la partie décimale.  \n",
    "Cliquer dans la cellule ci-dessous, puis cliquer dans la barre d'outils sur l'onglet **Exécuter** (ou **Run** en Anglais).  \n",
    "Le programme doit afficher \"<b style=\"color:red;\">142.5</b>\" puis \"<b style=\"color:red;\">78</b>\" en sortie."
   ]
  },
  {
   "cell_type": "code",
   "execution_count": null,
   "metadata": {},
   "outputs": [],
   "source": [
    "def prix1(m):\n",
    "    if m>=100:\n",
    "        return 0.95*m\n",
    "    else:\n",
    "        return m\n",
    "#------------------------------\n",
    "print(prix1(150))\n",
    "print(prix1(78))"
   ]
  },
  {
   "cell_type": "markdown",
   "metadata": {},
   "source": [
    "<h3 style=\"color:darkblue;\">Exercice</h3>"
   ]
  },
  {
   "cell_type": "markdown",
   "metadata": {},
   "source": [
    "Dans un magasin, on applique une réduction de 7 % si le montant des achats est supérieur ou égal à 80 euros.  \n",
    "Modifier la fonction <span style=\"color:blue;\">prix2</span>() dans la cellule ci-dessous\n",
    "(avant les tirets),\n",
    "pour qu'elle retourne le prix en euros à payer pour le client en fonction du montant m de ces achats.  \n",
    "Puis cliquer dans la barre d'outils sur l'onglet **Exécuter** (ou **Run** en Anglais).  \n",
    "Le programme doit afficher \"<b style=\"color:red\">139.5</b>\" puis \"<b style=\"color:red\">78</b>\" en sortie."
   ]
  },
  {
   "cell_type": "code",
   "execution_count": null,
   "metadata": {},
   "outputs": [],
   "source": [
    "def prix2(m):\n",
    "    if m>=100:\n",
    "        return 0.95*m\n",
    "    else:\n",
    "        return m\n",
    "#------------------------------\n",
    "print(prix2(150))\n",
    "print(prix2(78))"
   ]
  },
  {
   "cell_type": "markdown",
   "metadata": {},
   "source": [
    "<h3 style=\"color:indigo;\">Vérification</h3>"
   ]
  },
  {
   "cell_type": "markdown",
   "metadata": {},
   "source": [
    "Pour vérifier que votre fonction s'exécute correctement, cliquer dans la cellule ci-dessous, puis dans la barre d'outils cliquer sur l'onglet **Exécuter** (ou **Run** en Anglais), le programme doit afficher \"<b style=\"color:green;\">Correct !</b>\" en sortie.  \n",
    "Si le programme affiche \"<b style=\"color:darkred;\">Incorrect !</b>\" c'est qu'il faut changer le code de la fonction <span style=\"color:blue;\">prix2</span>() et l'**Exécuter** à nouveau."
   ]
  },
  {
   "cell_type": "code",
   "execution_count": null,
   "metadata": {},
   "outputs": [],
   "source": [
    "from m.m1 import c3\n",
    "c3(prix2)"
   ]
  },
  {
   "cell_type": "markdown",
   "metadata": {},
   "source": [
    "<h3 style=\"color:darkblue;\">TP suivant</h3>"
   ]
  },
  {
   "cell_type": "markdown",
   "metadata": {},
   "source": [
    "Pour passer au TP suivant fermer l'onglet **TP03-if-Jupyter Notebook** en cliquant sur la croix,\n",
    "puis en cliquant sur **Quitter** si vous n'avez pas enregistré.  \n",
    "Dans l'onglet précédent **1-TP-if/** cliquer sur le fichier **TP04-if.ipynb** ."
   ]
  },
  {
   "cell_type": "markdown",
   "metadata": {},
   "source": [
    "<center style=\"font-size:12px;color:teal;\">TP Python de SNT en ligne du Lycée Anna de Noailles à Evian</center>"
   ]
  }
 ],
 "metadata": {
  "celltoolbar": "Aucun(e)",
  "kernelspec": {
   "display_name": "Python 3",
   "language": "python",
   "name": "python3"
  },
  "language_info": {
   "codemirror_mode": {
    "name": "ipython",
    "version": 3
   },
   "file_extension": ".py",
   "mimetype": "text/x-python",
   "name": "python",
   "nbconvert_exporter": "python",
   "pygments_lexer": "ipython3",
   "version": "3.7.3"
  }
 },
 "nbformat": 4,
 "nbformat_minor": 2
}
