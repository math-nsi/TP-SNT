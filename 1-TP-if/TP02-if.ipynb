{
 "cells": [
  {
   "cell_type": "markdown",
   "metadata": {},
   "source": [
    "<h1 style=\"color:teal;\">TP02 avec la structure if</h1>\n",
    "<h2>Fonction avec une structure conditionnelle</h2>"
   ]
  },
  {
   "cell_type": "markdown",
   "metadata": {},
   "source": [
    "<h3 style=\"color:indigo;\">Exemple</h3>"
   ]
  },
  {
   "cell_type": "markdown",
   "metadata": {},
   "source": [
    "La fonction <span style=\"color:blue;\">estPositif</span>() définie ci-dessous retourne\n",
    "la **valeur booléenne** <b style=\"color:green;\">True</b> (Vrai en Français) si n est un nombre positif et elle retourne la valeur booléenne <b style=\"color:green;\">False</b> (Faux en Français) sinon.  \n",
    "Cliquer dans la cellule ci-dessous, puis cliquer dans la barre d'outils sur l'onglet **Exécuter** (ou **Run** en Anglais).  \n",
    "Le programme doit afficher \"<b style=\"color:red;\">True</b>\" puis \"<b style=\"color:red;\">False</b>\" en sortie."
   ]
  },
  {
   "cell_type": "code",
   "execution_count": null,
   "metadata": {
    "scrolled": true
   },
   "outputs": [],
   "source": [
    "def estPositif(n):\n",
    "    if n>0:\n",
    "        return True\n",
    "    else:\n",
    "        return False\n",
    "#---------------------------------    \n",
    "print(estPositif(3))\n",
    "print(estPositif(-5))"
   ]
  },
  {
   "cell_type": "markdown",
   "metadata": {},
   "source": [
    "<h3 style=\"color:darkblue;\">Exercice</h3>"
   ]
  },
  {
   "cell_type": "markdown",
   "metadata": {},
   "source": [
    "Modifier la fonction <span style=\"color:blue;\">estNegatif</span>() dans la cellule ci-dessous\n",
    "(avant les tirets),\n",
    "pour qu'elle retourne la valeur booléenne <b style=\"color:green;\">True</b> si n est négatif et qu'elle retourne la valeur booléenne <b style=\"color:green;\">False</b> sinon.  \n",
    "Puis cliquer dans la barre d'outils sur l'onglet **Exécuter** (ou **Run** en Anglais).  \n",
    "Le programme doit afficher \"<b style=\"color:red\">False</b>\" puis \"<b style=\"color:red\">True</b>\" en sortie."
   ]
  },
  {
   "cell_type": "code",
   "execution_count": null,
   "metadata": {},
   "outputs": [],
   "source": [
    "def estNegatif(n):\n",
    "    if n>0:\n",
    "        return True\n",
    "    else:\n",
    "        return False\n",
    "#-----------------------------------  \n",
    "print(estNegatif(3))\n",
    "print(estNegatif(-5))"
   ]
  },
  {
   "cell_type": "markdown",
   "metadata": {},
   "source": [
    "<h3 style=\"color:indigo;\">Vérification</h3>"
   ]
  },
  {
   "cell_type": "markdown",
   "metadata": {},
   "source": [
    "Pour vérifier que votre fonction s'exécute correctement, cliquer dans la cellule ci-dessous, puis dans la barre d'outils cliquer sur l'onglet **Exécuter** (ou **Run**), le programme doit afficher \"<b style=\"color:green;\">Correct !</b>\" en sortie.  \n",
    "Si le programme affiche \"<b style=\"color:darkred;\">Incorrect !</b>\" c'est qu'il faut changer le code de la fonction <span style=\"color:blue;\">estNegatif</span>() et l'**Exécuter** à nouveau."
   ]
  },
  {
   "cell_type": "code",
   "execution_count": null,
   "metadata": {},
   "outputs": [],
   "source": [
    "from m.m1 import c2\n",
    "c2(estNegatif)"
   ]
  },
  {
   "cell_type": "markdown",
   "metadata": {},
   "source": [
    "<h3 style=\"color:darkblue;\">TP suivant</h3>"
   ]
  },
  {
   "cell_type": "markdown",
   "metadata": {},
   "source": [
    "Pour passer au TP suivant fermer l'onglet **TP02-if-Jupyter Notebook** en cliquant sur la croix,\n",
    "puis en cliquant sur **Quitter** si vous n'avez pas enregistré.  \n",
    "Dans l'onglet précédent **1-TP-if/** cliquer sur le fichier **TP03-if.ipynb** ."
   ]
  },
  {
   "cell_type": "markdown",
   "metadata": {},
   "source": [
    "<center style=\"font-size:12px;color:teal;\">TP Python de SNT en ligne du Lycée Anna de Noailles à Evian</center>"
   ]
  }
 ],
 "metadata": {
  "kernelspec": {
   "display_name": "Python 3",
   "language": "python",
   "name": "python3"
  },
  "language_info": {
   "codemirror_mode": {
    "name": "ipython",
    "version": 3
   },
   "file_extension": ".py",
   "mimetype": "text/x-python",
   "name": "python",
   "nbconvert_exporter": "python",
   "pygments_lexer": "ipython3",
   "version": "3.7.3"
  }
 },
 "nbformat": 4,
 "nbformat_minor": 2
}
