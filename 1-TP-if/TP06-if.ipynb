{
 "cells": [
  {
   "cell_type": "markdown",
   "metadata": {},
   "source": [
    "<h1 style=\"color:teal;\">TP06 avec la structure if</h1>\n",
    "<h2>Fonction avec une structure conditionnelle</h2>"
   ]
  },
  {
   "cell_type": "markdown",
   "metadata": {},
   "source": [
    "<h3 style=\"color:indigo;\">Exemple</h3>"
   ]
  },
  {
   "cell_type": "markdown",
   "metadata": {},
   "source": [
    "Une entreprise décide d'augmenter les salaires de tous ses employés, mais de deux façons différentes.  \n",
    "Les salaires nets strictement inférieurs à 1500 euros seront augmentés de 5 % et ceux supérieurs ou égaux à 1500 euros seront augmentés de 3 % .  \n",
    "La fonction <span style=\"color:blue;\">salaire1</span>() définie ci-dessous retourne le nouveau salaire net d'un employé, en fonction de son ancien salaire net S.  \n",
    "Cliquer dans la cellule ci-dessous, puis cliquer dans la barre d'outils sur l'onglet **Exécuter** (ou **Run** en Anglais).  \n",
    "Le programme doit afficher \"<b style=\"color:red;\">1365.0</b>\" puis \"<b style=\"color:red;\">1648.0</b>\" en sortie."
   ]
  },
  {
   "cell_type": "code",
   "execution_count": null,
   "metadata": {
    "scrolled": true
   },
   "outputs": [],
   "source": [
    "def salaire1(S):\n",
    "    if S<1500:\n",
    "        return 1.05*S\n",
    "    else:\n",
    "        return 1.03*S\n",
    "#-------------------------------\n",
    "print(salaire1(1300))\n",
    "print(salaire1(1600))"
   ]
  },
  {
   "cell_type": "markdown",
   "metadata": {},
   "source": [
    "<h3 style=\"color:darkblue;\">Exercice</h3>"
   ]
  },
  {
   "cell_type": "markdown",
   "metadata": {},
   "source": [
    "Une entreprise décide d'augmenter les salaires de tous ses employés, mais de deux façons différentes.  \n",
    "Les salaires nets strictement inférieurs à 1600 euros seront augmentés de 6 % et ceux supérieurs ou égaux à 1600 euros seront augmentés de 4 % .  \n",
    "Rédiger la fonction <span style=\"color:blue;\">salaire2</span>() ci-dessous (avant les tirets),\n",
    "afin qu'elle retourne le nouveau salaire net d'un employé, en fonction de son ancien salaire net S.  \n",
    "Cliquer dans la cellule ci-dessous, puis cliquer dans la barre d'outils sur l'onglet **Exécuter** (ou **Run** en Anglais).  \n",
    "Le programme doit afficher \"<b style=\"color:red;\">1378.0</b>\" puis \"<b style=\"color:red;\">1664.0</b>\" en sortie."
   ]
  },
  {
   "cell_type": "code",
   "execution_count": null,
   "metadata": {},
   "outputs": [],
   "source": [
    "def salaire2(S):\n",
    "    \n",
    "#-------------------------------    \n",
    "print(salaire2(1300))\n",
    "print(salaire2(1600))"
   ]
  },
  {
   "cell_type": "markdown",
   "metadata": {},
   "source": [
    "<h3 style=\"color:indigo;\">Vérification</h3>"
   ]
  },
  {
   "cell_type": "markdown",
   "metadata": {},
   "source": [
    "Pour vérifier que votre fonction s'exécute correctement, cliquer dans la cellule ci-dessous, puis dans la barre d'outils cliquer sur l'onglet **Exécuter** (ou **Run** en Anglais), le programme doit afficher \"<b style=\"color:green;\">Correct !</b>\" en sortie.  \n",
    "Si le programme affiche \"<b style=\"color:darkred;\">Incorrect !</b>\" c'est qu'il faut changer le code de la fonction <span style=\"color:blue;\">salaire2</span>() et l'**Exécuter** à nouveau."
   ]
  },
  {
   "cell_type": "code",
   "execution_count": null,
   "metadata": {},
   "outputs": [],
   "source": [
    "from m.m1 import c6\n",
    "c6(salaire2)"
   ]
  },
  {
   "cell_type": "markdown",
   "metadata": {},
   "source": [
    "<h3 style=\"color:darkblue;\">TP suivant</h3>"
   ]
  },
  {
   "cell_type": "markdown",
   "metadata": {},
   "source": [
    "Pour passer au TP suivant fermer l'onglet **TP06-if-Jupyter Notebook** en cliquant sur la croix,\n",
    "puis en cliquant sur **Quitter** si vous n'avez pas enregistré.  \n",
    "Dans l'onglet précédent **1-TP-if/** cliquer sur le fichier **TP07-if.ipynb** ."
   ]
  },
  {
   "cell_type": "markdown",
   "metadata": {},
   "source": [
    "<center style=\"font-size:12px;color:teal;\">TP Python de SNT en ligne du Lycée Anna de Noailles à Evian</center>"
   ]
  }
 ],
 "metadata": {
  "kernelspec": {
   "display_name": "Python 3",
   "language": "python",
   "name": "python3"
  },
  "language_info": {
   "codemirror_mode": {
    "name": "ipython",
    "version": 3
   },
   "file_extension": ".py",
   "mimetype": "text/x-python",
   "name": "python",
   "nbconvert_exporter": "python",
   "pygments_lexer": "ipython3",
   "version": "3.7.3"
  }
 },
 "nbformat": 4,
 "nbformat_minor": 2
}
